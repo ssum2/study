{
 "cells": [
  {
   "cell_type": "markdown",
   "metadata": {},
   "source": [
    "### 새로운 컬럼 만들기\n",
    "* 영상링크 : https://youtu.be/CGEhwAd7Dbk"
   ]
  },
  {
   "cell_type": "code",
   "execution_count": 1,
   "metadata": {},
   "outputs": [],
   "source": [
    "import pandas as pd\n",
    "import numpy as np"
   ]
  },
  {
   "cell_type": "code",
   "execution_count": 3,
   "metadata": {},
   "outputs": [
    {
     "data": {
      "text/html": [
       "<div>\n",
       "<style scoped>\n",
       "    .dataframe tbody tr th:only-of-type {\n",
       "        vertical-align: middle;\n",
       "    }\n",
       "\n",
       "    .dataframe tbody tr th {\n",
       "        vertical-align: top;\n",
       "    }\n",
       "\n",
       "    .dataframe thead th {\n",
       "        text-align: right;\n",
       "    }\n",
       "</style>\n",
       "<table border=\"1\" class=\"dataframe\">\n",
       "  <thead>\n",
       "    <tr style=\"text-align: right;\">\n",
       "      <th></th>\n",
       "      <th>A</th>\n",
       "      <th>B</th>\n",
       "    </tr>\n",
       "  </thead>\n",
       "  <tbody>\n",
       "    <tr>\n",
       "      <th>0</th>\n",
       "      <td>1</td>\n",
       "      <td>1.602600</td>\n",
       "    </tr>\n",
       "    <tr>\n",
       "      <th>1</th>\n",
       "      <td>2</td>\n",
       "      <td>-1.814153</td>\n",
       "    </tr>\n",
       "    <tr>\n",
       "      <th>2</th>\n",
       "      <td>3</td>\n",
       "      <td>-0.372421</td>\n",
       "    </tr>\n",
       "    <tr>\n",
       "      <th>3</th>\n",
       "      <td>4</td>\n",
       "      <td>-0.037536</td>\n",
       "    </tr>\n",
       "    <tr>\n",
       "      <th>4</th>\n",
       "      <td>5</td>\n",
       "      <td>-1.190357</td>\n",
       "    </tr>\n",
       "    <tr>\n",
       "      <th>5</th>\n",
       "      <td>6</td>\n",
       "      <td>-0.046461</td>\n",
       "    </tr>\n",
       "    <tr>\n",
       "      <th>6</th>\n",
       "      <td>7</td>\n",
       "      <td>-0.065170</td>\n",
       "    </tr>\n",
       "    <tr>\n",
       "      <th>7</th>\n",
       "      <td>8</td>\n",
       "      <td>2.276049</td>\n",
       "    </tr>\n",
       "    <tr>\n",
       "      <th>8</th>\n",
       "      <td>9</td>\n",
       "      <td>-0.720706</td>\n",
       "    </tr>\n",
       "    <tr>\n",
       "      <th>9</th>\n",
       "      <td>10</td>\n",
       "      <td>0.482768</td>\n",
       "    </tr>\n",
       "  </tbody>\n",
       "</table>\n",
       "</div>"
      ],
      "text/plain": [
       "    A         B\n",
       "0   1  1.602600\n",
       "1   2 -1.814153\n",
       "2   3 -0.372421\n",
       "3   4 -0.037536\n",
       "4   5 -1.190357\n",
       "5   6 -0.046461\n",
       "6   7 -0.065170\n",
       "7   8  2.276049\n",
       "8   9 -0.720706\n",
       "9  10  0.482768"
      ]
     },
     "execution_count": 3,
     "metadata": {},
     "output_type": "execute_result"
    }
   ],
   "source": [
    "df = pd.DataFrame({'A': range(1, 11), 'B': np.random.randn(10)})\n",
    "df"
   ]
  },
  {
   "cell_type": "code",
   "execution_count": 4,
   "metadata": {},
   "outputs": [
    {
     "data": {
      "text/plain": [
       "\u001b[0;31mSignature:\u001b[0m \u001b[0mdf\u001b[0m\u001b[0;34m.\u001b[0m\u001b[0massign\u001b[0m\u001b[0;34m(\u001b[0m\u001b[0;34m**\u001b[0m\u001b[0mkwargs\u001b[0m\u001b[0;34m)\u001b[0m\u001b[0;34m\u001b[0m\u001b[0m\n",
       "\u001b[0;31mDocstring:\u001b[0m\n",
       "Assign new columns to a DataFrame.\n",
       "\n",
       "Returns a new object with all original columns in addition to new ones.\n",
       "Existing columns that are re-assigned will be overwritten.\n",
       "\n",
       "Parameters\n",
       "----------\n",
       "**kwargs : dict of {str: callable or Series}\n",
       "    The column names are keywords. If the values are\n",
       "    callable, they are computed on the DataFrame and\n",
       "    assigned to the new columns. The callable must not\n",
       "    change input DataFrame (though pandas doesn't check it).\n",
       "    If the values are not callable, (e.g. a Series, scalar, or array),\n",
       "    they are simply assigned.\n",
       "\n",
       "Returns\n",
       "-------\n",
       "DataFrame\n",
       "    A new DataFrame with the new columns in addition to\n",
       "    all the existing columns.\n",
       "\n",
       "Notes\n",
       "-----\n",
       "Assigning multiple columns within the same ``assign`` is possible.\n",
       "For Python 3.6 and above, later items in '\\*\\*kwargs' may refer to\n",
       "newly created or modified columns in 'df'; items are computed and\n",
       "assigned into 'df' in order.  For Python 3.5 and below, the order of\n",
       "keyword arguments is not specified, you cannot refer to newly created\n",
       "or modified columns. All items are computed first, and then assigned\n",
       "in alphabetical order.\n",
       "\n",
       ".. versionchanged :: 0.23.0\n",
       "\n",
       "   Keyword argument order is maintained for Python 3.6 and later.\n",
       "\n",
       "Examples\n",
       "--------\n",
       ">>> df = pd.DataFrame({'temp_c': [17.0, 25.0]},\n",
       "...                   index=['Portland', 'Berkeley'])\n",
       ">>> df\n",
       "          temp_c\n",
       "Portland    17.0\n",
       "Berkeley    25.0\n",
       "\n",
       "Where the value is a callable, evaluated on `df`:\n",
       "\n",
       ">>> df.assign(temp_f=lambda x: x.temp_c * 9 / 5 + 32)\n",
       "          temp_c  temp_f\n",
       "Portland    17.0    62.6\n",
       "Berkeley    25.0    77.0\n",
       "\n",
       "Alternatively, the same behavior can be achieved by directly\n",
       "referencing an existing Series or sequence:\n",
       "\n",
       ">>> df.assign(temp_f=df['temp_c'] * 9 / 5 + 32)\n",
       "          temp_c  temp_f\n",
       "Portland    17.0    62.6\n",
       "Berkeley    25.0    77.0\n",
       "\n",
       "In Python 3.6+, you can create multiple columns within the same assign\n",
       "where one of the columns depends on another one defined within the same\n",
       "assign:\n",
       "\n",
       ">>> df.assign(temp_f=lambda x: x['temp_c'] * 9 / 5 + 32,\n",
       "...           temp_k=lambda x: (x['temp_f'] +  459.67) * 5 / 9)\n",
       "          temp_c  temp_f  temp_k\n",
       "Portland    17.0    62.6  290.15\n",
       "Berkeley    25.0    77.0  298.15\n",
       "\u001b[0;31mFile:\u001b[0m      ~/.pyenv/versions/3.6.5/lib/python3.6/site-packages/pandas/core/frame.py\n",
       "\u001b[0;31mType:\u001b[0m      method\n"
      ]
     },
     "metadata": {},
     "output_type": "display_data"
    }
   ],
   "source": [
    "df.assign?"
   ]
  },
  {
   "cell_type": "code",
   "execution_count": 5,
   "metadata": {},
   "outputs": [
    {
     "data": {
      "text/html": [
       "<div>\n",
       "<style scoped>\n",
       "    .dataframe tbody tr th:only-of-type {\n",
       "        vertical-align: middle;\n",
       "    }\n",
       "\n",
       "    .dataframe tbody tr th {\n",
       "        vertical-align: top;\n",
       "    }\n",
       "\n",
       "    .dataframe thead th {\n",
       "        text-align: right;\n",
       "    }\n",
       "</style>\n",
       "<table border=\"1\" class=\"dataframe\">\n",
       "  <thead>\n",
       "    <tr style=\"text-align: right;\">\n",
       "      <th></th>\n",
       "      <th>A</th>\n",
       "      <th>B</th>\n",
       "      <th>ln_A</th>\n",
       "    </tr>\n",
       "  </thead>\n",
       "  <tbody>\n",
       "    <tr>\n",
       "      <th>0</th>\n",
       "      <td>1</td>\n",
       "      <td>1.602600</td>\n",
       "      <td>0.000000</td>\n",
       "    </tr>\n",
       "    <tr>\n",
       "      <th>1</th>\n",
       "      <td>2</td>\n",
       "      <td>-1.814153</td>\n",
       "      <td>0.693147</td>\n",
       "    </tr>\n",
       "    <tr>\n",
       "      <th>2</th>\n",
       "      <td>3</td>\n",
       "      <td>-0.372421</td>\n",
       "      <td>1.098612</td>\n",
       "    </tr>\n",
       "    <tr>\n",
       "      <th>3</th>\n",
       "      <td>4</td>\n",
       "      <td>-0.037536</td>\n",
       "      <td>1.386294</td>\n",
       "    </tr>\n",
       "    <tr>\n",
       "      <th>4</th>\n",
       "      <td>5</td>\n",
       "      <td>-1.190357</td>\n",
       "      <td>1.609438</td>\n",
       "    </tr>\n",
       "  </tbody>\n",
       "</table>\n",
       "</div>"
      ],
      "text/plain": [
       "   A         B      ln_A\n",
       "0  1  1.602600  0.000000\n",
       "1  2 -1.814153  0.693147\n",
       "2  3 -0.372421  1.098612\n",
       "3  4 -0.037536  1.386294\n",
       "4  5 -1.190357  1.609438"
      ]
     },
     "execution_count": 5,
     "metadata": {},
     "output_type": "execute_result"
    }
   ],
   "source": [
    "df.assign(ln_A = lambda x: np.log(x.A)).head()"
   ]
  },
  {
   "cell_type": "code",
   "execution_count": 6,
   "metadata": {},
   "outputs": [
    {
     "name": "stderr",
     "output_type": "stream",
     "text": [
      "/Users/ssum/.pyenv/versions/3.6.5/lib/python3.6/site-packages/ipykernel_launcher.py:1: UserWarning: Pandas doesn't allow columns to be created via a new attribute name - see https://pandas.pydata.org/pandas-docs/stable/indexing.html#attribute-access\n",
      "  \"\"\"Entry point for launching an IPython kernel.\n"
     ]
    },
    {
     "data": {
      "text/html": [
       "<div>\n",
       "<style scoped>\n",
       "    .dataframe tbody tr th:only-of-type {\n",
       "        vertical-align: middle;\n",
       "    }\n",
       "\n",
       "    .dataframe tbody tr th {\n",
       "        vertical-align: top;\n",
       "    }\n",
       "\n",
       "    .dataframe thead th {\n",
       "        text-align: right;\n",
       "    }\n",
       "</style>\n",
       "<table border=\"1\" class=\"dataframe\">\n",
       "  <thead>\n",
       "    <tr style=\"text-align: right;\">\n",
       "      <th></th>\n",
       "      <th>A</th>\n",
       "      <th>B</th>\n",
       "    </tr>\n",
       "  </thead>\n",
       "  <tbody>\n",
       "    <tr>\n",
       "      <th>0</th>\n",
       "      <td>1</td>\n",
       "      <td>1.602600</td>\n",
       "    </tr>\n",
       "    <tr>\n",
       "      <th>1</th>\n",
       "      <td>2</td>\n",
       "      <td>-1.814153</td>\n",
       "    </tr>\n",
       "    <tr>\n",
       "      <th>2</th>\n",
       "      <td>3</td>\n",
       "      <td>-0.372421</td>\n",
       "    </tr>\n",
       "    <tr>\n",
       "      <th>3</th>\n",
       "      <td>4</td>\n",
       "      <td>-0.037536</td>\n",
       "    </tr>\n",
       "    <tr>\n",
       "      <th>4</th>\n",
       "      <td>5</td>\n",
       "      <td>-1.190357</td>\n",
       "    </tr>\n",
       "    <tr>\n",
       "      <th>5</th>\n",
       "      <td>6</td>\n",
       "      <td>-0.046461</td>\n",
       "    </tr>\n",
       "    <tr>\n",
       "      <th>6</th>\n",
       "      <td>7</td>\n",
       "      <td>-0.065170</td>\n",
       "    </tr>\n",
       "    <tr>\n",
       "      <th>7</th>\n",
       "      <td>8</td>\n",
       "      <td>2.276049</td>\n",
       "    </tr>\n",
       "    <tr>\n",
       "      <th>8</th>\n",
       "      <td>9</td>\n",
       "      <td>-0.720706</td>\n",
       "    </tr>\n",
       "    <tr>\n",
       "      <th>9</th>\n",
       "      <td>10</td>\n",
       "      <td>0.482768</td>\n",
       "    </tr>\n",
       "  </tbody>\n",
       "</table>\n",
       "</div>"
      ],
      "text/plain": [
       "    A         B\n",
       "0   1  1.602600\n",
       "1   2 -1.814153\n",
       "2   3 -0.372421\n",
       "3   4 -0.037536\n",
       "4   5 -1.190357\n",
       "5   6 -0.046461\n",
       "6   7 -0.065170\n",
       "7   8  2.276049\n",
       "8   9 -0.720706\n",
       "9  10  0.482768"
      ]
     },
     "execution_count": 6,
     "metadata": {},
     "output_type": "execute_result"
    }
   ],
   "source": [
    "df.ln_A = np.log(df.A)\n",
    "df"
   ]
  },
  {
   "cell_type": "code",
   "execution_count": 7,
   "metadata": {},
   "outputs": [
    {
     "data": {
      "text/plain": [
       "0     bad\n",
       "1    good\n",
       "2    good\n",
       "3     bad\n",
       "4    good\n",
       "5     bad\n",
       "6    good\n",
       "7     bad\n",
       "8    good\n",
       "9     bad\n",
       "Name: B, dtype: category\n",
       "Categories (2, object): [good < bad]"
      ]
     },
     "execution_count": 7,
     "metadata": {},
     "output_type": "execute_result"
    }
   ],
   "source": [
    "# vector function; n개만큼 bin컬럼을 만듦\n",
    "# 숫자형 데이터를 카테고리컬한 데이터로 구분하여 만들어줄 때 사용\n",
    "pd.qcut(df.B, 2, labels=[\"good\", \"bad\"])"
   ]
  },
  {
   "cell_type": "code",
   "execution_count": 8,
   "metadata": {},
   "outputs": [
    {
     "data": {
      "text/plain": [
       "A    10.000000\n",
       "B     2.276049\n",
       "dtype: float64"
      ]
     },
     "execution_count": 8,
     "metadata": {},
     "output_type": "execute_result"
    }
   ],
   "source": [
    "df.max(axis=0) # 축을 0으로 정했을 때의 컬럼의 최대값"
   ]
  },
  {
   "cell_type": "code",
   "execution_count": 9,
   "metadata": {},
   "outputs": [
    {
     "data": {
      "text/plain": [
       "A    1.000000\n",
       "B   -1.814153\n",
       "dtype: float64"
      ]
     },
     "execution_count": 9,
     "metadata": {},
     "output_type": "execute_result"
    }
   ],
   "source": [
    "df.min(axis=0) # 축을 0으로 정했을 때의 컬럼의 최소값"
   ]
  },
  {
   "cell_type": "code",
   "execution_count": 10,
   "metadata": {},
   "outputs": [
    {
     "data": {
      "text/plain": [
       "0    1.602600\n",
       "1    1.000000\n",
       "2    1.000000\n",
       "3    1.000000\n",
       "4    1.000000\n",
       "5    1.000000\n",
       "6    1.000000\n",
       "7    2.276049\n",
       "8    1.000000\n",
       "9    1.000000\n",
       "Name: B, dtype: float64"
      ]
     },
     "execution_count": 10,
     "metadata": {},
     "output_type": "execute_result"
    }
   ],
   "source": [
    "df[\"B\"].clip(lower=1,upper=3) #임계치만큼 값을 trim"
   ]
  },
  {
   "cell_type": "code",
   "execution_count": 11,
   "metadata": {},
   "outputs": [
    {
     "data": {
      "text/plain": [
       "0    1.602600\n",
       "1    1.814153\n",
       "2    0.372421\n",
       "3    0.037536\n",
       "4    1.190357\n",
       "5    0.046461\n",
       "6    0.065170\n",
       "7    2.276049\n",
       "8    0.720706\n",
       "9    0.482768\n",
       "Name: B, dtype: float64"
      ]
     },
     "execution_count": 11,
     "metadata": {},
     "output_type": "execute_result"
    }
   ],
   "source": [
    "df[\"B\"].abs() # 절대값을 출력"
   ]
  },
  {
   "cell_type": "code",
   "execution_count": null,
   "metadata": {},
   "outputs": [],
   "source": []
  }
 ],
 "metadata": {
  "kernelspec": {
   "display_name": "Python 3",
   "language": "python",
   "name": "python3"
  },
  "language_info": {
   "codemirror_mode": {
    "name": "ipython",
    "version": 3
   },
   "file_extension": ".py",
   "mimetype": "text/x-python",
   "name": "python",
   "nbconvert_exporter": "python",
   "pygments_lexer": "ipython3",
   "version": "3.6.5"
  }
 },
 "nbformat": 4,
 "nbformat_minor": 2
}
