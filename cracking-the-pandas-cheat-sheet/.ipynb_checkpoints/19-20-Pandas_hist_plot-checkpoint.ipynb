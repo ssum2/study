{
 "cells": [
  {
   "cell_type": "markdown",
   "metadata": {},
   "source": [
    "## Histograms\n",
    "### 도수분포표 vs 히스토그램\n",
    "* 도수분포표 : 특정 구간에 속하는 자료의 개수를 표현 ([도수 분포 - 위키백과, 우리 모두의 백과사전](https://ko.wikipedia.org/wiki/%EB%8F%84%EC%88%98_%EB%B6%84%ED%8F%AC))\n",
    "* 히스토그램 : 도수분포표를 시각화하여 막대그래프로 표현, 하지만 bar plot과는 다름 ([히스토그램 - 위키백과, 우리 모두의 백과사전](https://ko.wikipedia.org/wiki/%ED%9E%88%EC%8A%A4%ED%86%A0%EA%B7%B8%EB%9E%A8))\n",
    "\n",
    "### 막대그래프 vs 히스토그램 (bar plot vs hist plot)\n",
    "* bar plot : 표현 값에 비례하여 높이와 길이를 지닌 직사각형 막대로 범주형 데이터를 표현하는 차트나 그래프, 합계, 평균 등의 수치를 시각화 ([막대 그래프 - 위키백과, 우리 모두의 백과사전](https://ko.wikipedia.org/wiki/%EB%A7%89%EB%8C%80_%EA%B7%B8%EB%9E%98%ED%94%84))\n",
    "* hist plot : 구간별 빈도수를 표현\n",
    "\n",
    "### 히스토그램 vs 정규분포 (hist plot vs density plot)\n",
    "* hist plot : 구간별 빈도수\n",
    "* density plot : 확률 밀도 함수 - 확률 변수의 밀도를 표현 ([정규 분포 - 위키백과, 우리 모두의 백과사전](https://ko.wikipedia.org/wiki/%EC%A0%95%EA%B7%9C_%EB%B6%84%ED%8F%AC))"
   ]
  },
  {
   "cell_type": "markdown",
   "metadata": {},
   "source": [
    "* https://pandas.pydata.org/pandas-docs/stable/user_guide/visualization.html"
   ]
  },
  {
   "cell_type": "code",
   "execution_count": 1,
   "metadata": {},
   "outputs": [],
   "source": [
    "import pandas as pd\n",
    "import numpy as np\n",
    "import matplotlib.pyplot as plt\n",
    "import matplotlib as mpl\n",
    "\n",
    "%matplotlib inline\n",
    "\n",
    "# 한글폰트 사용시 그래프에서 마이너스 폰트 깨지는 문제에 대한 대처\n",
    "mpl.rcParams['axes.unicode_minus'] = False"
   ]
  },
  {
   "cell_type": "code",
   "execution_count": 2,
   "metadata": {},
   "outputs": [
    {
     "data": {
      "text/html": [
       "<div>\n",
       "<style scoped>\n",
       "    .dataframe tbody tr th:only-of-type {\n",
       "        vertical-align: middle;\n",
       "    }\n",
       "\n",
       "    .dataframe tbody tr th {\n",
       "        vertical-align: top;\n",
       "    }\n",
       "\n",
       "    .dataframe thead th {\n",
       "        text-align: right;\n",
       "    }\n",
       "</style>\n",
       "<table border=\"1\" class=\"dataframe\">\n",
       "  <thead>\n",
       "    <tr style=\"text-align: right;\">\n",
       "      <th></th>\n",
       "      <th>a</th>\n",
       "      <th>b</th>\n",
       "      <th>c</th>\n",
       "    </tr>\n",
       "  </thead>\n",
       "  <tbody>\n",
       "    <tr>\n",
       "      <th>0</th>\n",
       "      <td>1.127424</td>\n",
       "      <td>-1.000380</td>\n",
       "      <td>1.144843</td>\n",
       "    </tr>\n",
       "    <tr>\n",
       "      <th>1</th>\n",
       "      <td>1.108998</td>\n",
       "      <td>1.794219</td>\n",
       "      <td>-0.564752</td>\n",
       "    </tr>\n",
       "    <tr>\n",
       "      <th>2</th>\n",
       "      <td>1.406644</td>\n",
       "      <td>-0.750422</td>\n",
       "      <td>1.191657</td>\n",
       "    </tr>\n",
       "    <tr>\n",
       "      <th>3</th>\n",
       "      <td>0.836781</td>\n",
       "      <td>-0.575635</td>\n",
       "      <td>-0.862615</td>\n",
       "    </tr>\n",
       "    <tr>\n",
       "      <th>4</th>\n",
       "      <td>1.893029</td>\n",
       "      <td>-0.582246</td>\n",
       "      <td>-0.185937</td>\n",
       "    </tr>\n",
       "  </tbody>\n",
       "</table>\n",
       "</div>"
      ],
      "text/plain": [
       "          a         b         c\n",
       "0  1.127424 -1.000380  1.144843\n",
       "1  1.108998  1.794219 -0.564752\n",
       "2  1.406644 -0.750422  1.191657\n",
       "3  0.836781 -0.575635 -0.862615\n",
       "4  1.893029 -0.582246 -0.185937"
      ]
     },
     "execution_count": 2,
     "metadata": {},
     "output_type": "execute_result"
    }
   ],
   "source": [
    "df4 = pd.DataFrame({'a': np.random.randn(1000) + 1, \n",
    "                    'b': np.random.randn(1000),\n",
    "                    'c': np.random.randn(1000) - 1}, \n",
    "                   columns=['a', 'b', 'c'])\n",
    "df4.head()"
   ]
  },
  {
   "cell_type": "code",
   "execution_count": 3,
   "metadata": {},
   "outputs": [
    {
     "data": {
      "text/plain": [
       "<matplotlib.axes._subplots.AxesSubplot at 0x11c5f68d0>"
      ]
     },
     "execution_count": 3,
     "metadata": {},
     "output_type": "execute_result"
    },
    {
     "data": {
      "image/png": "[encoded data removed]",
      "text/plain": [
       "<Figure size 432x288 with 1 Axes>"
      ]
     },
     "metadata": {
      "needs_background": "light"
     },
     "output_type": "display_data"
    }
   ],
   "source": [
    "# 히스토그램 그리기\n",
    "# alpha = 투명도 조절\n",
    "# frequency에 따라서 10개의 bin으로 그려지고있음\n",
    "# bin == 데이터를 어떠한 통에다가 담아준다\n",
    "df4.plot.hist(alpha=0.5)"
   ]
  },
  {
   "cell_type": "code",
   "execution_count": 4,
   "metadata": {},
   "outputs": [
    {
     "data": {
      "text/plain": [
       "<matplotlib.axes._subplots.AxesSubplot at 0x11e9fd278>"
      ]
     },
     "execution_count": 4,
     "metadata": {},
     "output_type": "execute_result"
    },
    {
     "data": {
      "image/png": "[encoded data removed]",
      "text/plain": [
       "<Figure size 432x288 with 1 Axes>"
      ]
     },
     "metadata": {
      "needs_background": "light"
     },
     "output_type": "display_data"
    }
   ],
   "source": [
    "df4.plot.hist(stacked=True, bins=20)\n",
    "# 누적해서 그 위에다가 계속 쌓아올린 형태\n",
    "# bin을 20개로 지정"
   ]
  },
  {
   "cell_type": "code",
   "execution_count": 5,
   "metadata": {},
   "outputs": [
    {
     "data": {
      "text/plain": [
       "<matplotlib.axes._subplots.AxesSubplot at 0x11ec18eb8>"
      ]
     },
     "execution_count": 5,
     "metadata": {},
     "output_type": "execute_result"
    },
    {
     "data": {
      "image/png": "[encoded data removed]",
      "text/plain": [
       "<Figure size 432x288 with 1 Axes>"
      ]
     },
     "metadata": {
      "needs_background": "light"
     },
     "output_type": "display_data"
    }
   ],
   "source": [
    "# 축을 바꿔줌\n",
    "# cumulative = True ; 누적합계\n",
    "df4['a'].plot.hist(orientation='horizontal', cumulative=True)"
   ]
  },
  {
   "cell_type": "code",
   "execution_count": 6,
   "metadata": {},
   "outputs": [
    {
     "data": {
      "text/plain": [
       "<matplotlib.axes._subplots.AxesSubplot at 0x11eceb240>"
      ]
     },
     "execution_count": 6,
     "metadata": {},
     "output_type": "execute_result"
    },
    {
     "data": {
      "image/png": "[encoded data removed]",
      "text/plain": [
       "<Figure size 432x288 with 1 Axes>"
      ]
     },
     "metadata": {
      "needs_background": "light"
     },
     "output_type": "display_data"
    }
   ],
   "source": [
    "df4['a'].diff().hist()\n",
    "# diff(); 차분을 구함 앞의 값에서 뒤의 값을 뺀 값"
   ]
  },
  {
   "cell_type": "code",
   "execution_count": 7,
   "metadata": {},
   "outputs": [
    {
     "data": {
      "text/html": [
       "<div>\n",
       "<style scoped>\n",
       "    .dataframe tbody tr th:only-of-type {\n",
       "        vertical-align: middle;\n",
       "    }\n",
       "\n",
       "    .dataframe tbody tr th {\n",
       "        vertical-align: top;\n",
       "    }\n",
       "\n",
       "    .dataframe thead th {\n",
       "        text-align: right;\n",
       "    }\n",
       "</style>\n",
       "<table border=\"1\" class=\"dataframe\">\n",
       "  <thead>\n",
       "    <tr style=\"text-align: right;\">\n",
       "      <th></th>\n",
       "      <th>a</th>\n",
       "      <th>a_diff</th>\n",
       "    </tr>\n",
       "  </thead>\n",
       "  <tbody>\n",
       "    <tr>\n",
       "      <th>0</th>\n",
       "      <td>1.127424</td>\n",
       "      <td>NaN</td>\n",
       "    </tr>\n",
       "    <tr>\n",
       "      <th>1</th>\n",
       "      <td>1.108998</td>\n",
       "      <td>-0.018425</td>\n",
       "    </tr>\n",
       "    <tr>\n",
       "      <th>2</th>\n",
       "      <td>1.406644</td>\n",
       "      <td>0.297646</td>\n",
       "    </tr>\n",
       "    <tr>\n",
       "      <th>3</th>\n",
       "      <td>0.836781</td>\n",
       "      <td>-0.569864</td>\n",
       "    </tr>\n",
       "    <tr>\n",
       "      <th>4</th>\n",
       "      <td>1.893029</td>\n",
       "      <td>1.056249</td>\n",
       "    </tr>\n",
       "    <tr>\n",
       "      <th>5</th>\n",
       "      <td>0.695163</td>\n",
       "      <td>-1.197866</td>\n",
       "    </tr>\n",
       "    <tr>\n",
       "      <th>6</th>\n",
       "      <td>0.082651</td>\n",
       "      <td>-0.612513</td>\n",
       "    </tr>\n",
       "    <tr>\n",
       "      <th>7</th>\n",
       "      <td>-0.376479</td>\n",
       "      <td>-0.459130</td>\n",
       "    </tr>\n",
       "    <tr>\n",
       "      <th>8</th>\n",
       "      <td>2.936111</td>\n",
       "      <td>3.312591</td>\n",
       "    </tr>\n",
       "    <tr>\n",
       "      <th>9</th>\n",
       "      <td>0.795171</td>\n",
       "      <td>-2.140940</td>\n",
       "    </tr>\n",
       "    <tr>\n",
       "      <th>10</th>\n",
       "      <td>-0.366471</td>\n",
       "      <td>-1.161642</td>\n",
       "    </tr>\n",
       "    <tr>\n",
       "      <th>11</th>\n",
       "      <td>-0.669007</td>\n",
       "      <td>-0.302536</td>\n",
       "    </tr>\n",
       "    <tr>\n",
       "      <th>12</th>\n",
       "      <td>0.311040</td>\n",
       "      <td>0.980047</td>\n",
       "    </tr>\n",
       "    <tr>\n",
       "      <th>13</th>\n",
       "      <td>2.029499</td>\n",
       "      <td>1.718459</td>\n",
       "    </tr>\n",
       "    <tr>\n",
       "      <th>14</th>\n",
       "      <td>-0.033836</td>\n",
       "      <td>-2.063335</td>\n",
       "    </tr>\n",
       "    <tr>\n",
       "      <th>15</th>\n",
       "      <td>1.985521</td>\n",
       "      <td>2.019357</td>\n",
       "    </tr>\n",
       "    <tr>\n",
       "      <th>16</th>\n",
       "      <td>-0.256788</td>\n",
       "      <td>-2.242310</td>\n",
       "    </tr>\n",
       "    <tr>\n",
       "      <th>17</th>\n",
       "      <td>0.588156</td>\n",
       "      <td>0.844944</td>\n",
       "    </tr>\n",
       "    <tr>\n",
       "      <th>18</th>\n",
       "      <td>3.572597</td>\n",
       "      <td>2.984441</td>\n",
       "    </tr>\n",
       "    <tr>\n",
       "      <th>19</th>\n",
       "      <td>0.423337</td>\n",
       "      <td>-3.149260</td>\n",
       "    </tr>\n",
       "    <tr>\n",
       "      <th>20</th>\n",
       "      <td>1.579113</td>\n",
       "      <td>1.155776</td>\n",
       "    </tr>\n",
       "    <tr>\n",
       "      <th>21</th>\n",
       "      <td>0.960460</td>\n",
       "      <td>-0.618653</td>\n",
       "    </tr>\n",
       "    <tr>\n",
       "      <th>22</th>\n",
       "      <td>1.625165</td>\n",
       "      <td>0.664705</td>\n",
       "    </tr>\n",
       "    <tr>\n",
       "      <th>23</th>\n",
       "      <td>1.854429</td>\n",
       "      <td>0.229265</td>\n",
       "    </tr>\n",
       "    <tr>\n",
       "      <th>24</th>\n",
       "      <td>1.629090</td>\n",
       "      <td>-0.225340</td>\n",
       "    </tr>\n",
       "    <tr>\n",
       "      <th>25</th>\n",
       "      <td>0.596697</td>\n",
       "      <td>-1.032393</td>\n",
       "    </tr>\n",
       "    <tr>\n",
       "      <th>26</th>\n",
       "      <td>0.309441</td>\n",
       "      <td>-0.287256</td>\n",
       "    </tr>\n",
       "    <tr>\n",
       "      <th>27</th>\n",
       "      <td>1.122135</td>\n",
       "      <td>0.812694</td>\n",
       "    </tr>\n",
       "    <tr>\n",
       "      <th>28</th>\n",
       "      <td>0.613411</td>\n",
       "      <td>-0.508724</td>\n",
       "    </tr>\n",
       "    <tr>\n",
       "      <th>29</th>\n",
       "      <td>1.478024</td>\n",
       "      <td>0.864613</td>\n",
       "    </tr>\n",
       "    <tr>\n",
       "      <th>...</th>\n",
       "      <td>...</td>\n",
       "      <td>...</td>\n",
       "    </tr>\n",
       "    <tr>\n",
       "      <th>970</th>\n",
       "      <td>0.563603</td>\n",
       "      <td>0.206978</td>\n",
       "    </tr>\n",
       "    <tr>\n",
       "      <th>971</th>\n",
       "      <td>-0.582278</td>\n",
       "      <td>-1.145882</td>\n",
       "    </tr>\n",
       "    <tr>\n",
       "      <th>972</th>\n",
       "      <td>0.358673</td>\n",
       "      <td>0.940951</td>\n",
       "    </tr>\n",
       "    <tr>\n",
       "      <th>973</th>\n",
       "      <td>0.502034</td>\n",
       "      <td>0.143361</td>\n",
       "    </tr>\n",
       "    <tr>\n",
       "      <th>974</th>\n",
       "      <td>-0.378446</td>\n",
       "      <td>-0.880480</td>\n",
       "    </tr>\n",
       "    <tr>\n",
       "      <th>975</th>\n",
       "      <td>-0.542585</td>\n",
       "      <td>-0.164139</td>\n",
       "    </tr>\n",
       "    <tr>\n",
       "      <th>976</th>\n",
       "      <td>0.999427</td>\n",
       "      <td>1.542013</td>\n",
       "    </tr>\n",
       "    <tr>\n",
       "      <th>977</th>\n",
       "      <td>2.345382</td>\n",
       "      <td>1.345954</td>\n",
       "    </tr>\n",
       "    <tr>\n",
       "      <th>978</th>\n",
       "      <td>1.543316</td>\n",
       "      <td>-0.802065</td>\n",
       "    </tr>\n",
       "    <tr>\n",
       "      <th>979</th>\n",
       "      <td>0.213359</td>\n",
       "      <td>-1.329957</td>\n",
       "    </tr>\n",
       "    <tr>\n",
       "      <th>980</th>\n",
       "      <td>2.038400</td>\n",
       "      <td>1.825041</td>\n",
       "    </tr>\n",
       "    <tr>\n",
       "      <th>981</th>\n",
       "      <td>0.563165</td>\n",
       "      <td>-1.475236</td>\n",
       "    </tr>\n",
       "    <tr>\n",
       "      <th>982</th>\n",
       "      <td>1.287864</td>\n",
       "      <td>0.724700</td>\n",
       "    </tr>\n",
       "    <tr>\n",
       "      <th>983</th>\n",
       "      <td>0.546976</td>\n",
       "      <td>-0.740888</td>\n",
       "    </tr>\n",
       "    <tr>\n",
       "      <th>984</th>\n",
       "      <td>2.045793</td>\n",
       "      <td>1.498817</td>\n",
       "    </tr>\n",
       "    <tr>\n",
       "      <th>985</th>\n",
       "      <td>-0.546733</td>\n",
       "      <td>-2.592525</td>\n",
       "    </tr>\n",
       "    <tr>\n",
       "      <th>986</th>\n",
       "      <td>1.125431</td>\n",
       "      <td>1.672164</td>\n",
       "    </tr>\n",
       "    <tr>\n",
       "      <th>987</th>\n",
       "      <td>2.071563</td>\n",
       "      <td>0.946132</td>\n",
       "    </tr>\n",
       "    <tr>\n",
       "      <th>988</th>\n",
       "      <td>2.873298</td>\n",
       "      <td>0.801735</td>\n",
       "    </tr>\n",
       "    <tr>\n",
       "      <th>989</th>\n",
       "      <td>0.742270</td>\n",
       "      <td>-2.131028</td>\n",
       "    </tr>\n",
       "    <tr>\n",
       "      <th>990</th>\n",
       "      <td>1.263503</td>\n",
       "      <td>0.521233</td>\n",
       "    </tr>\n",
       "    <tr>\n",
       "      <th>991</th>\n",
       "      <td>1.803580</td>\n",
       "      <td>0.540077</td>\n",
       "    </tr>\n",
       "    <tr>\n",
       "      <th>992</th>\n",
       "      <td>1.093202</td>\n",
       "      <td>-0.710379</td>\n",
       "    </tr>\n",
       "    <tr>\n",
       "      <th>993</th>\n",
       "      <td>0.779462</td>\n",
       "      <td>-0.313739</td>\n",
       "    </tr>\n",
       "    <tr>\n",
       "      <th>994</th>\n",
       "      <td>0.681700</td>\n",
       "      <td>-0.097763</td>\n",
       "    </tr>\n",
       "    <tr>\n",
       "      <th>995</th>\n",
       "      <td>-0.130887</td>\n",
       "      <td>-0.812587</td>\n",
       "    </tr>\n",
       "    <tr>\n",
       "      <th>996</th>\n",
       "      <td>1.646082</td>\n",
       "      <td>1.776969</td>\n",
       "    </tr>\n",
       "    <tr>\n",
       "      <th>997</th>\n",
       "      <td>2.311744</td>\n",
       "      <td>0.665662</td>\n",
       "    </tr>\n",
       "    <tr>\n",
       "      <th>998</th>\n",
       "      <td>1.067443</td>\n",
       "      <td>-1.244301</td>\n",
       "    </tr>\n",
       "    <tr>\n",
       "      <th>999</th>\n",
       "      <td>0.730248</td>\n",
       "      <td>-0.337195</td>\n",
       "    </tr>\n",
       "  </tbody>\n",
       "</table>\n",
       "<p>1000 rows × 2 columns</p>\n",
       "</div>"
      ],
      "text/plain": [
       "            a    a_diff\n",
       "0    1.127424       NaN\n",
       "1    1.108998 -0.018425\n",
       "2    1.406644  0.297646\n",
       "3    0.836781 -0.569864\n",
       "4    1.893029  1.056249\n",
       "5    0.695163 -1.197866\n",
       "6    0.082651 -0.612513\n",
       "7   -0.376479 -0.459130\n",
       "8    2.936111  3.312591\n",
       "9    0.795171 -2.140940\n",
       "10  -0.366471 -1.161642\n",
       "11  -0.669007 -0.302536\n",
       "12   0.311040  0.980047\n",
       "13   2.029499  1.718459\n",
       "14  -0.033836 -2.063335\n",
       "15   1.985521  2.019357\n",
       "16  -0.256788 -2.242310\n",
       "17   0.588156  0.844944\n",
       "18   3.572597  2.984441\n",
       "19   0.423337 -3.149260\n",
       "20   1.579113  1.155776\n",
       "21   0.960460 -0.618653\n",
       "22   1.625165  0.664705\n",
       "23   1.854429  0.229265\n",
       "24   1.629090 -0.225340\n",
       "25   0.596697 -1.032393\n",
       "26   0.309441 -0.287256\n",
       "27   1.122135  0.812694\n",
       "28   0.613411 -0.508724\n",
       "29   1.478024  0.864613\n",
       "..        ...       ...\n",
       "970  0.563603  0.206978\n",
       "971 -0.582278 -1.145882\n",
       "972  0.358673  0.940951\n",
       "973  0.502034  0.143361\n",
       "974 -0.378446 -0.880480\n",
       "975 -0.542585 -0.164139\n",
       "976  0.999427  1.542013\n",
       "977  2.345382  1.345954\n",
       "978  1.543316 -0.802065\n",
       "979  0.213359 -1.329957\n",
       "980  2.038400  1.825041\n",
       "981  0.563165 -1.475236\n",
       "982  1.287864  0.724700\n",
       "983  0.546976 -0.740888\n",
       "984  2.045793  1.498817\n",
       "985 -0.546733 -2.592525\n",
       "986  1.125431  1.672164\n",
       "987  2.071563  0.946132\n",
       "988  2.873298  0.801735\n",
       "989  0.742270 -2.131028\n",
       "990  1.263503  0.521233\n",
       "991  1.803580  0.540077\n",
       "992  1.093202 -0.710379\n",
       "993  0.779462 -0.313739\n",
       "994  0.681700 -0.097763\n",
       "995 -0.130887 -0.812587\n",
       "996  1.646082  1.776969\n",
       "997  2.311744  0.665662\n",
       "998  1.067443 -1.244301\n",
       "999  0.730248 -0.337195\n",
       "\n",
       "[1000 rows x 2 columns]"
      ]
     },
     "execution_count": 7,
     "metadata": {},
     "output_type": "execute_result"
    }
   ],
   "source": [
    "df4['a_diff'] = df4['a'].diff()\n",
    "df4[['a', 'a_diff']]"
   ]
  },
  {
   "cell_type": "code",
   "execution_count": 8,
   "metadata": {},
   "outputs": [
    {
     "data": {
      "text/html": [
       "<div>\n",
       "<style scoped>\n",
       "    .dataframe tbody tr th:only-of-type {\n",
       "        vertical-align: middle;\n",
       "    }\n",
       "\n",
       "    .dataframe tbody tr th {\n",
       "        vertical-align: top;\n",
       "    }\n",
       "\n",
       "    .dataframe thead th {\n",
       "        text-align: right;\n",
       "    }\n",
       "</style>\n",
       "<table border=\"1\" class=\"dataframe\">\n",
       "  <thead>\n",
       "    <tr style=\"text-align: right;\">\n",
       "      <th></th>\n",
       "      <th>a</th>\n",
       "      <th>a_shift</th>\n",
       "      <th>a_minus</th>\n",
       "      <th>a_diff</th>\n",
       "    </tr>\n",
       "  </thead>\n",
       "  <tbody>\n",
       "    <tr>\n",
       "      <th>0</th>\n",
       "      <td>1.127424</td>\n",
       "      <td>NaN</td>\n",
       "      <td>NaN</td>\n",
       "      <td>NaN</td>\n",
       "    </tr>\n",
       "    <tr>\n",
       "      <th>1</th>\n",
       "      <td>1.108998</td>\n",
       "      <td>1.127424</td>\n",
       "      <td>-0.018425</td>\n",
       "      <td>-0.018425</td>\n",
       "    </tr>\n",
       "    <tr>\n",
       "      <th>2</th>\n",
       "      <td>1.406644</td>\n",
       "      <td>1.108998</td>\n",
       "      <td>0.297646</td>\n",
       "      <td>0.297646</td>\n",
       "    </tr>\n",
       "    <tr>\n",
       "      <th>3</th>\n",
       "      <td>0.836781</td>\n",
       "      <td>1.406644</td>\n",
       "      <td>-0.569864</td>\n",
       "      <td>-0.569864</td>\n",
       "    </tr>\n",
       "    <tr>\n",
       "      <th>4</th>\n",
       "      <td>1.893029</td>\n",
       "      <td>0.836781</td>\n",
       "      <td>1.056249</td>\n",
       "      <td>1.056249</td>\n",
       "    </tr>\n",
       "  </tbody>\n",
       "</table>\n",
       "</div>"
      ],
      "text/plain": [
       "          a   a_shift   a_minus    a_diff\n",
       "0  1.127424       NaN       NaN       NaN\n",
       "1  1.108998  1.127424 -0.018425 -0.018425\n",
       "2  1.406644  1.108998  0.297646  0.297646\n",
       "3  0.836781  1.406644 -0.569864 -0.569864\n",
       "4  1.893029  0.836781  1.056249  1.056249"
      ]
     },
     "execution_count": 8,
     "metadata": {},
     "output_type": "execute_result"
    }
   ],
   "source": [
    "df4['a_diff'] = df4['a'].diff()\n",
    "df4['a_shift'] = df4['a'].shift(1) # 두개 값의 차이\n",
    "df4['a_minus'] = df4['a'] - df4['a_shift'] # 직접 차분값을 구하기\n",
    "df4[['a', 'a_shift', 'a_minus', 'a_diff']].head()"
   ]
  },
  {
   "cell_type": "code",
   "execution_count": 9,
   "metadata": {},
   "outputs": [
    {
     "data": {
      "text/plain": [
       "array([[<matplotlib.axes._subplots.AxesSubplot object at 0x11fe7c470>,\n",
       "        <matplotlib.axes._subplots.AxesSubplot object at 0x11fc91da0>],\n",
       "       [<matplotlib.axes._subplots.AxesSubplot object at 0x11f309390>,\n",
       "        <matplotlib.axes._subplots.AxesSubplot object at 0x11f428940>]],\n",
       "      dtype=object)"
      ]
     },
     "execution_count": 9,
     "metadata": {},
     "output_type": "execute_result"
    },
    {
     "data": {
      "image/png": "[encoded data removed]",
      "text/plain": [
       "<Figure size 432x288 with 4 Axes>"
      ]
     },
     "metadata": {
      "needs_background": "light"
     },
     "output_type": "display_data"
    }
   ],
   "source": [
    "df4[['a', 'b', 'c']].diff().hist(color='k', alpha=0.5, bins=50)"
   ]
  },
  {
   "cell_type": "code",
   "execution_count": 10,
   "metadata": {},
   "outputs": [
    {
     "data": {
      "text/plain": [
       "array([[<matplotlib.axes._subplots.AxesSubplot object at 0x11f56db00>,\n",
       "        <matplotlib.axes._subplots.AxesSubplot object at 0x11fa51358>],\n",
       "       [<matplotlib.axes._subplots.AxesSubplot object at 0x11fafb8d0>,\n",
       "        <matplotlib.axes._subplots.AxesSubplot object at 0x11fb61e80>]],\n",
       "      dtype=object)"
      ]
     },
     "execution_count": 10,
     "metadata": {},
     "output_type": "execute_result"
    },
    {
     "data": {
      "image/png": "[encoded data removed]",
      "text/plain": [
       "<Figure size 432x288 with 4 Axes>"
      ]
     },
     "metadata": {
      "needs_background": "light"
     },
     "output_type": "display_data"
    }
   ],
   "source": [
    "df4[['a', 'b', 'c']].diff().hist(color='k', alpha=0.5, bins=30)"
   ]
  },
  {
   "cell_type": "code",
   "execution_count": 11,
   "metadata": {},
   "outputs": [
    {
     "data": {
      "text/html": [
       "<div>\n",
       "<style scoped>\n",
       "    .dataframe tbody tr th:only-of-type {\n",
       "        vertical-align: middle;\n",
       "    }\n",
       "\n",
       "    .dataframe tbody tr th {\n",
       "        vertical-align: top;\n",
       "    }\n",
       "\n",
       "    .dataframe thead th {\n",
       "        text-align: right;\n",
       "    }\n",
       "</style>\n",
       "<table border=\"1\" class=\"dataframe\">\n",
       "  <thead>\n",
       "    <tr style=\"text-align: right;\">\n",
       "      <th></th>\n",
       "      <th>a</th>\n",
       "      <th>b</th>\n",
       "    </tr>\n",
       "  </thead>\n",
       "  <tbody>\n",
       "    <tr>\n",
       "      <th>0</th>\n",
       "      <td>-0.567186</td>\n",
       "      <td>1</td>\n",
       "    </tr>\n",
       "    <tr>\n",
       "      <th>1</th>\n",
       "      <td>-1.042838</td>\n",
       "      <td>1</td>\n",
       "    </tr>\n",
       "    <tr>\n",
       "      <th>2</th>\n",
       "      <td>-0.040021</td>\n",
       "      <td>3</td>\n",
       "    </tr>\n",
       "    <tr>\n",
       "      <th>3</th>\n",
       "      <td>1.249981</td>\n",
       "      <td>3</td>\n",
       "    </tr>\n",
       "    <tr>\n",
       "      <th>4</th>\n",
       "      <td>-1.737311</td>\n",
       "      <td>3</td>\n",
       "    </tr>\n",
       "  </tbody>\n",
       "</table>\n",
       "</div>"
      ],
      "text/plain": [
       "          a  b\n",
       "0 -0.567186  1\n",
       "1 -1.042838  1\n",
       "2 -0.040021  3\n",
       "3  1.249981  3\n",
       "4 -1.737311  3"
      ]
     },
     "execution_count": 11,
     "metadata": {},
     "output_type": "execute_result"
    }
   ],
   "source": [
    "data = pd.Series(np.random.randn(1000))\n",
    "\n",
    "data = pd.DataFrame({'a' : np.random.randn(1000),\n",
    "                    'b': np.random.randint(0, 4, 1000) })\n",
    "data.head()"
   ]
  },
  {
   "cell_type": "code",
   "execution_count": 12,
   "metadata": {},
   "outputs": [
    {
     "data": {
      "text/plain": [
       "array([[<matplotlib.axes._subplots.AxesSubplot object at 0x11f863cc0>,\n",
       "        <matplotlib.axes._subplots.AxesSubplot object at 0x11fa48e48>],\n",
       "       [<matplotlib.axes._subplots.AxesSubplot object at 0x11fc69438>,\n",
       "        <matplotlib.axes._subplots.AxesSubplot object at 0x11fd069e8>]],\n",
       "      dtype=object)"
      ]
     },
     "execution_count": 12,
     "metadata": {},
     "output_type": "execute_result"
    },
    {
     "data": {
      "image/png": "[encoded data removed]",
      "text/plain": [
       "<Figure size 432x288 with 4 Axes>"
      ]
     },
     "metadata": {
      "needs_background": "light"
     },
     "output_type": "display_data"
    }
   ],
   "source": [
    "data['a'].hist(by=data['b'], figsize=(6, 4))\n",
    "# 카테고리컬한 b컬럼의 히스토그램 출력\n",
    "# figsize 로 그래프의 사이즈 조절"
   ]
  }
 ],
 "metadata": {
  "kernelspec": {
   "display_name": "Python 3",
   "language": "python",
   "name": "python3"
  },
  "language_info": {
   "codemirror_mode": {
    "name": "ipython",
    "version": 3
   },
   "file_extension": ".py",
   "mimetype": "text/x-python",
   "name": "python",
   "nbconvert_exporter": "python",
   "pygments_lexer": "ipython3",
   "version": "3.6.5"
  }
 },
 "nbformat": 4,
 "nbformat_minor": 2
}
